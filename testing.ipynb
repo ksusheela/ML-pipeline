{
 "cells": [
  {
   "cell_type": "code",
   "execution_count": null,
   "metadata": {},
   "outputs": [],
   "source": [
    "def abc():\n",
    "    try:\n",
    "        pass\n",
    "        pass\n",
    "        pass\n",
    "        pass\n",
    "        pass\n",
    "        pass\n",
    "    exception as e(sys,error)\n",
    "\n",
    "\n"
   ]
  }
 ],
 "metadata": {
  "language_info": {
   "name": "python"
  },
  "orig_nbformat": 4
 },
 "nbformat": 4,
 "nbformat_minor": 2
}
